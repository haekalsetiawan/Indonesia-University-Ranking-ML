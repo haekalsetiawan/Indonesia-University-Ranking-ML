# Data Preprocessing

import pandas as pd

# Load data
df = pd.read_csv('../data/Indonesian University Ranking 2020.csv')

# Display initial data
print("Initial Data:")
print(df.head())

# Clean and preprocess data
# (Add your preprocessing steps here)
# Example:
df = df.dropna()

# Save the cleaned data
df.to_csv('../data/cleaned_university_ranking_2020.csv', index=False)

print("Cleaned Data:")
print(df.head())
