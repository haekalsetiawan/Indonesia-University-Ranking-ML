{
 "cells": [
  {
   "cell_type": "code",
   "execution_count": null,
   "id": "7c46de9b",
   "metadata": {},
   "outputs": [],
   "source": [
    "# Model Training\n",
    "\n",
    "import pandas as pd\n",
    "from sklearn.model_selection import train_test_split\n",
    "from sklearn.ensemble import RandomForestClassifier\n",
    "from sklearn.metrics import accuracy_score\n",
    "import joblib\n",
    "\n",
    "# Load preprocessed data\n",
    "df = pd.read_csv('../data/cleaned_university_ranking_2020.csv')\n",
    "\n",
    "# Feature Engineering\n",
    "df['Region'] = df['Town'].apply(lambda x: 'Region 1' if x in ['Town1', 'Town2'] else 'Region 2')\n",
    "\n",
    "# Encoding categorical variables\n",
    "X = pd.get_dummies(df[['University', 'Town', 'Region']], drop_first=True)\n",
    "y = pd.cut(df['Rank'], bins=[0, 10, 50, df['Rank'].max()], labels=['Top 10', 'Top 50', 'Lainnya'])\n",
    "\n",
    "# Split data\n",
    "X_train, X_test, y_train, y_test = train_test_split(X, y, test_size=0.2, random_state=42)\n",
    "\n",
    "# Train model\n",
    "model = RandomForestClassifier()\n",
    "model.fit(X_train, y_train)\n",
    "\n",
    "# Evaluate model\n",
    "y_pred = model.predict(X_test)\n",
    "accuracy = accuracy_score(y_test, y_pred)\n",
    "\n",
    "print(f\"Model Accuracy: {accuracy}\")\n",
    "\n",
    "# Save model\n",
    "joblib.dump(model, '../model/university_ranking_model.pkl')\n"
   ]
  }
 ],
 "metadata": {
  "kernelspec": {
   "display_name": "Python 3",
   "language": "python",
   "name": "python3"
  },
  "language_info": {
   "codemirror_mode": {
    "name": "ipython",
    "version": 3
   },
   "file_extension": ".py",
   "mimetype": "text/x-python",
   "name": "python",
   "nbconvert_exporter": "python",
   "pygments_lexer": "ipython3",
   "version": "3.8.8"
  }
 },
 "nbformat": 4,
 "nbformat_minor": 5
}
